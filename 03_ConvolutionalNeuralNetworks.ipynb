{
 "cells": [
  {
   "cell_type": "markdown",
   "metadata": {},
   "source": [
    "<div align=\"center\">\n",
    "<a href=\"https://vbti.nl\"><img src=\"images/vbti_logo.png\" width=\"400\"></a>\n",
    "</div>\n",
    "\n",
    "# Convolutional Neural Networks\n",
    "This notebook supports the 'Convolutional Neural Network' chapter of the [1-day masterclass \"Deep Learning\"](https://aiblog.nl/masterclass-deep-learning). It is not ment as a full course on deep learning, but rather gives you a flavor of the topic. For an in-depth AI training or consultancy please contact [VBTI](https://vbti.nl). \n",
    "\n",
    "Convolutional Neural Networks are a special type or Artificial Neural Networks. They are optimized to process image data. During the masterclass the details of convolution/maxpooling layers and CNN architectures are explained. In this notebook you will build and train an ANN to recognize objects in images.\n",
    "\n",
    "<div align=\"center\">\n",
    "<a href=\"https://aiblog.nl/masterclass-deep-learning\"><img src=\"images/cnn.png\" width=\"400\"></a>\n",
    "</div>"
   ]
  },
  {
   "cell_type": "code",
   "execution_count": 1,
   "metadata": {},
   "outputs": [],
   "source": [
    "# import some default libaries\n",
    "import numpy as np\n",
    "import matplotlib.pyplot as plt"
   ]
  },
  {
   "cell_type": "markdown",
   "metadata": {},
   "source": [
    "# Data preparation\n",
    "In this example the well known Cifar10 dataset is used. The datasets consists of 60,000 images of objects from 10 classes. The challenge is to train a neural network that labels each image with the object class. To train the neural network 50,000 images are used. The remaining 10,000 images are used to validate the performance of the neural network.\n",
    "\n",
    "First the data is imported and scaled so the neural network can handle the data."
   ]
  },
  {
   "cell_type": "code",
   "execution_count": 2,
   "metadata": {},
   "outputs": [
    {
     "name": "stderr",
     "output_type": "stream",
     "text": [
      "Using TensorFlow backend.\n"
     ]
    },
    {
     "name": "stdout",
     "output_type": "stream",
     "text": [
      "Downloading data from https://www.cs.toronto.edu/~kriz/cifar-10-python.tar.gz\n",
      "170500096/170498071 [==============================] - 152s 1us/step\n"
     ]
    },
    {
     "data": {
      "text/plain": [
       "((50000, 32, 32, 3),\n",
       " (50000, 1),\n",
       " (10000, 32, 32, 3),\n",
       " (10000, 1),\n",
       " dtype('float64'),\n",
       " dtype('uint8'))"
      ]
     },
     "execution_count": 2,
     "metadata": {},
     "output_type": "execute_result"
    }
   ],
   "source": [
    "from keras.datasets import cifar10\n",
    "\n",
    "# load data\n",
    "(x_train, y_train), (x_val, y_val) = cifar10.load_data()\n",
    "\n",
    "# scale data\n",
    "x_train, x_val = x_train / 255.0, x_val / 255.0\n",
    "\n",
    "# inspect shape and type\n",
    "x_train.shape, y_train.shape, x_val.shape, y_val.shape, x_val.dtype, y_train.dtype"
   ]
  },
  {
   "cell_type": "code",
   "execution_count": 3,
   "metadata": {},
   "outputs": [
    {
     "data": {
      "text/plain": [
       "<matplotlib.image.AxesImage at 0x7ff95ecf5be0>"
      ]
     },
     "execution_count": 3,
     "metadata": {},
     "output_type": "execute_result"
    },
    {
     "data": {
      "image/png": "iVBORw0KGgoAAAANSUhEUgAAAP8AAAD8CAYAAAC4nHJkAAAABHNCSVQICAgIfAhkiAAAAAlwSFlzAAALEgAACxIB0t1+/AAAADl0RVh0U29mdHdhcmUAbWF0cGxvdGxpYiB2ZXJzaW9uIDMuMC4yLCBodHRwOi8vbWF0cGxvdGxpYi5vcmcvOIA7rQAAHtxJREFUeJztnXmQXNWV5r+TWZVVpVq0SwitSKxCgKCFxNYObMYYu93GTLCOYYhpsDxuMzOe8XSEwxPR9kT0H3bH2A5HuIceuaENDtsYYxgTbrcNpt0jY0BIAiFAEgJtaCmptJRKtWblcuaPTNpCc79bq7LE3O8XoVDWPXnfO/nynXyZ93vnHHN3CCHSIzPRDgghJgYFvxCJouAXIlEU/EIkioJfiERR8AuRKAp+IRJFwS9Eoij4hUiUurFMNrObAHwHQBbA37n712PPz2SyXpcN77Jc5ncajuouRBv5lNFuMupdzHfjTmYz/HO5HNmmR44j9yNii+0rMi1D/LfIa469z9F55TJ3hMyL7Yv5Xt0g98MjfsQgrljUj/CkUqmIcrk0rLPfRnt7r5llAWwH8FEA+wCsB3CXu29hc3L1DT5z+tlBW39/nu6rWGA+xgKLvxGxEykGmxc7hsVikdqy2Sy1tba2UttAvkBt+Xz4OMY+FDLZyAdNmfsfe92TJk0KjmfJhz8AFAqD1FZfX09t7DUDQF1deH/5Qb6vpknN1Bb7YBiMbDNGuRQ+jk2TmiJzSsHxY537UCjkh3WCj+Vr/0oA77j7TncfBPAYgJvHsD0hRA0ZS/DPBbD3pL/3VceEEB8AxvSbfziY2WoAqwEgm+Ffc4UQtWUsV/79AOaf9Pe86tj7cPc17r7C3VdkFPxCnDGMJfjXAzjPzM4xsxyAOwE8PT5uCSFON6P+2u/uRTN7AMCvUZH6Hnb3N4eYQ1dEi8Xw6mWF8GdUOSrxjG61P7aC3dzMV4EZfX19I54DAD09PdTmkc9s5n9sRT+mOhSLfAU7Nm/mzJnB8aNHj9I5A/kBavOIshNbgc/lcsHxvv5+OiemHsT21dDQQG2tLW3U1nnsRHC8VOTncGNTWP0YiZI1pt/87v5LAL8cyzaEEBOD7vATIlEU/EIkioJfiERR8AuRKAp+IRLltN/hdzLliNQ3RGpZcDQbka9KERkwJhHG5Csm5QwMRCSqUSZOxRJg6urD8hXAJcKYRBWVTCPEtskSmmLHKpanNZjnkmOpzGXiQiGcBJXLcVkuF5HsJk+eTG0xWffEiS5qK5NswFwdf5/ZDXMjkfp05RciURT8QiSKgl+IRFHwC5EoCn4hEqWmq/1wp/XW6ur4CmuJlDmKCgQRW6ykFUsEAYDe3t7geCwRJEZMCYipDqNREGJzYqv98RKE/CB3dnYGxzOR12WkNBUwuuQdgJf/iqlBMdkhl+PlxKZODZeoA+IqgVl4fz09XD042N7BtkbnnIqu/EIkioJfiERR8AuRKAp+IRJFwS9Eoij4hUiUmkp9ZkCWKBFe4l1oQBQgz3BZwyKSx2gSUoDRJcDEWz9xypFklZgUxdp8xdp/FQv8NcfrHVITBgfD/sdr4DVGbFxii7U9a21pCY5fcOH5dM7Fyy6gtuXLl1PbwoWLqG1SpPvOgQPtwfGv/uVf0Tldx48Hx0sRufRUdOUXIlEU/EIkioJfiERR8AuRKAp+IRJFwS9EooxJ6jOz3QC6URHjiu6+Ysg5RKYqxyQKJ/XKIlJTOSKHxTLcRiKV/Isfo2z/FZsXkxy9zOexTsgZ45/zFpHfspF55Uh2JNNnGxu5nJfNcim1tY3Pu/ba66jtU5/6VHB81aor6ZwZM6dRW0yqjGV31tXxUNu1a3dw/OBBlrkH5ElNQ5Y1G/Rp2M/kfNjdj4zDdoQQNURf+4VIlLEGvwN4xsw2mtnq8XBICFEbxvq1/zp3329mswA8a2bb3H3tyU+ofiisBuK/O4UQtWVM0eju+6v/dwB4CsDKwHPWuPsKd18xkoYCQojTy6iD38yazaz1vccAbgTwxng5JoQ4vYzla/9sAE9Vr+Z1AH7k7r8a7cZY+yEAcA9/Y4goXtGsvhixzD32zSX2jWa0MmBUIgQ/Vq2trSPeHmvxBQAl0koKiL+2pqZwQdaWVi7ZXX3NH1Hbrbd+mtquveZaaps5a1ZwfMuWrXTOtre2UNtVV11FbbHjUYhkTr704rrg+Inj3XROPSl4OzCCn9ajDn533wngstHOF0JMLFqBEyJRFPxCJIqCX4hEUfALkSgKfiESpba9+mBc0iNyHgCUiaYXy2AyVikUcUlmvLP64jc2cfmtWOSvLUf6zwFcqiwUeIHUmLxZX8/74DU1c9lu7tzZwfG777mTzvnMZ7ht6lTe665Y5O9ZsRh+3U1N3Pdp03hWXyw7L5aJefjwYWp7kUh9gxF5sKV5UnB8JDfS6covRKIo+IVIFAW/EImi4BciURT8QiRKbVf73elqeixZBSRJxyLturJ1fEU8P8hrrcVaP2XJSm+8blqsbRh/zZFF5eiqcndPOBnEI/X2WtvCyUAA0NzCbS2tvAXV3ffcFRz/2E0foXNiK+mlcqTOYHbk17CFC8+JWPmx6uvrp7ZYi7W1a39HbW+8EU4kqq8PJ+8AQKEQ3lcsgetUdOUXIlEU/EIkioJfiERR8AuRKAp+IRJFwS9EotRU6nMzFDPhXdbF2klRmYpLZbkmLlEtuegSauvtH6C2d/fsDI57mUuHGeevKxOt08flw8ZJXMZsaAzbli1bSufcfsdt1NbU0kJtx7s6qe3cJWEpbetWXjvvnV17qG3p0oupbe6cs6iNnzucAdIKCwDyeS717d93kNr+7nuPUltfX/icy+W4lFrysNw7klerK78QiaLgFyJRFPxCJIqCX4hEUfALkSgKfiESZUipz8weBvBJAB3uvqw6Ng3ATwAsArAbwO3uznWfKo1Nk3DR8nBLpl3v7KDzBkkmVX0jl6GuWHk1tT3wHz9PbdlI7b8fPPL3wfF//MUv6Jx8H6+dVyhyibC1lb81H77+Smpbcs784PjFS8+lcz70x1z6PHsRlwgHi1xq7TrRGxz/0WNP0jnZHL8W1TdweTMmi549O1xLsLeHS3YDA/x96R/oo7YHH/xf1PbKxteorZnIqaUSf12si9pImtQN58r/fQA3nTL2ZQDPuft5AJ6r/i2E+AAxZPC7+1oAx04ZvhnAI9XHjwDgXRSFEGcko/3NP9vd26uPD6LSsVcI8QFizAt+XikdQu8qNLPVZrbBzDYUi/y2SSFEbRlt8B8yszkAUP2/gz3R3de4+wp3X1FXxxtACCFqy2iD/2kA91Yf3wvg5+PjjhCiVgxH6vsxgOsBzDCzfQC+CuDrAB43s/sA7AFw+3B2Nn3GDNx73/1B209+/Did9yYpcPhHV66kcz77ufB+AOCqlVdQW73xIoznzP2L4PhZM2fQOU88/lNqmzol3HIJAC5eupjabvw4L4K5cN6c4Hj/iVPXbP/Aiy/w4pKX9nBp69yL+HGcQVpeXXPNKjpn995w1iQARBRYbH/rLWqry4Ylwv5enr1pkdy4Rx79PrU9+WRExsxyWZS1S4u1jmueFM5a7e0bvtg3ZPC7e7gMK3DDsPcihDjj0B1+QiSKgl+IRFHwC5EoCn4hEkXBL0Si1LSA55TJk/EnH78xaGts4MUKf/bU08Hx227hKQVXXnEptXmJ32lYcJ6Fd/bZ4UKR//7zn6NzLrrwPGrb8PJaaps5ixcgffkVniH2+3UbguMfu/HU3Kw/cO5ynrn32pZ11DZ7wUJqmzw1LGOedfZkOue7f8PlXueqFz50/b+itinTw3eeT2rkMus/PP2/qe273/0uteUHeA/FbIbvb2AgLDs2NDTSOcUiOSAjqOCpK78QiaLgFyJRFPxCJIqCX4hEUfALkSgKfiESpaZSXyZjaCV95q67hhelnEGy5i5YNI/Oac5xzaNU5nJeMdI/b6A3XPQxl+OHceqUNmo7euwQta1aeQG1vf5Tnj3WR4pPrm/mEtvcOYuoLdfGj/G77Twzbu9LzwfH/+fffovO6ejYS2133nEntZ17LpdTWau+Z579DZ3z8EMPU1tPdw+1ZbMN3I+IvDx56tTgeInJeQD6+8PZlmVW2TOArvxCJIqCX4hEUfALkSgKfiESRcEvRKLUdLUfcFg5vII5uZlX9r1iWXg1t6GBf3aVjK+umvN6anXG/Sh5eJuFgXBrKgDYt/N1arvkgnBrLQA4ZyFPtmlp+z21NeDt4Hjv4a10zhOPP0FtF13Oa+7t2/cqtf3o0UeD420t/Ph+4YH/TG0LF59PbWXnrbxeeHljcPwffvVLOufgQVqMGg0NXL1htfiGstWR+n6D+Uipe5bpFFGrTkVXfiESRcEvRKIo+IVIFAW/EImi4BciURT8QiTKcNp1PQzgkwA63H1ZdexrAD4L4HD1aV9xd66dVMmYob6O7DIiUeTqwlJIGTzxIZvhLy1jvKVRvp/LduXBcFJHYx1PFJo3l7fyuuDiBdSGxnCyBwCcteRiaus5EK4j1zZlOp0zfSH3Y9tbYekQAF58ntcgvOTSsFR59SreYm3ufO5H0blE+Oqrm6ltw8YXguNb3nyD76vIz4/6LK81iSyX8wqFcFIYAHR2doY3l+GStLFzePjduoZ15f8+gFD1x2+7+/LqvyEDXwhxZjFk8Lv7WgC8y6MQ4gPJWH7zP2Bmm83sYTPj31GFEGckow3+BwEsAbAcQDuAb7InmtlqM9tgZhuOHDnMniaEqDGjCn53P+TuJXcvA/geALqK4+5r3H2Fu6+YMWPmaP0UQowzowp+M5tz