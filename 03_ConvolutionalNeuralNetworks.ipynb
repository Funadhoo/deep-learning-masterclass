{
 "cells": [
  {
   "cell_type": "markdown",
   "metadata": {},
   "source": [
    "<div align=\"center\">\n",
    "<a href=\"https://vbti.nl\"><img src=\"images/vbti_logo.png\" width=\"400\"></a>\n",
    "</div>\n",
    "\n",
    "# Convolutional Neural Networks\n",
    "This notebook supports the 'Convolutional Neural Network' chapter of the [1-day masterclass \"Deep Learning\"](https://aiblog.nl/masterclass-deep-learning). It is not ment as a full course on deep learning, but rather gives you a flavor of the topic. For an in-depth AI training or consultancy please contact [VBTI](https://vbti.nl). \n",
    "\n",
    "Convolutional Neural Networks are a special type or Artificial Neural Networks. They are optimized to process image data. During the masterclass the details of convolution/maxpooling layers and CNN architectures are explained. In this notebook you will build and train an ANN to recognize objects in images.\n",
    "\n",
    "<div align=\"center\">\n",
    "<a href=\"https://aiblog.nl/masterclass-deep-learning\"><img src=\"images/cnn.png\" width=\"400\"></a>\n",
    "</div>"
   ]
  },
  {
   "cell_type": "code",
   "execution_count": 1,
   "metadata": {},
   "outputs": [],
   "source": [
    "# import some default libaries\n",
    "import numpy as np\n",
    "import matplotlib.pyplot as plt"
   ]
  },
  {
   "cell_type": "markdown",
   "metadata": {},
   "source": [
    "# Data preparation\n",
    "In this example the well known Cifar10 dataset is used. The datasets consists of 60,000 images of objects from 10 classes. The challenge is to train a neural network that labels each image with the object class. To train the neural network 50,000 images are used. The remaining 10,000 images are used to validate the performance of the neural network.\n",
    "\n",
    "First the data is imported and scaled so the neural network can handle the data."
   ]
  },
  {
   "cell_type": "code",
   "execution_count": 2,
   "metadata": {},
   "outputs": [
    {
     "name": "stderr",
     "output_type": "stream",
     "text": [
      "Using TensorFlow backend.\n"
     ]
    },
    {
     "name": "stdout",
     "output_type": "stream",
     "text": [
      "Downloading data from https://www.cs.toronto.edu/~kriz/cifar-10-python.tar.gz\n",
      "170500096/170498071 [==============================] - 152s 1us/step\n"
     ]
    },
    {
     "data": {
      "text/plain": [
       "((50000, 32, 32, 3),\n",
       " (50000, 1),\n",
       " (10000, 32, 32, 3),\n",
       " (10000, 1),\n",
       " dtype('float64'),\n",
       " dtype('uint8'))"
      ]
     },
     "execution_count": 2,
     "metadata": {},
     "output_type": "execute_result"
    }
   ],
   "source": [
    "from keras.datasets import cifar10\n",
    "\n",
    "# load data\n",
    "(x_train, y_train), (x_val, y_val) = cifar10.load_data()\n",
    "\n",
    "# scale data\n",
    "x_train, x_val = x_train / 255.0, x_val / 255.0\n",
    "\n",
    "# inspect shape and type\n",
    "x_train.shape, y_train.shape, x_val.shape, y_val.shape, x_val.dtype, y_train.dtype"
   ]
  },
  {
   "cell_type": "code",
   "execution_count": 3,
   "metadata": {},
   "outputs": [
    {
     "data": {
      "text/plain": [
       "<matplotlib.image.AxesImage at 0x7ff95ecf5be0>"
      ]
     },
     "execution_count": 3,
     "metadata": {},
     "output_type": "execute_result"
    },
    {
     "data": {
      "image/png": "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