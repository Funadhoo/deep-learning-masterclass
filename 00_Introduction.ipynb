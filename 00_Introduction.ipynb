{
 "cells": [
  {
   "cell_type": "markdown",
   "metadata": {},
   "source": [
    "<div align=\"center\">\n",
    "<a href=\"https://vbti.nl\"><img src=\"images/vbti_logo.png\" width=\"400\"></a>\n",
    "</div>\n",
    "\n",
    "# Welcome!\n",
    "\n",
    "Welcome to the 1-day masterclass \"Deep Learning\" provided by [VBTI](https://vbti.nl). During this masterclass you will get an overview of the latest developments in the field of Artificial Intelligence / Deep Learning. These notebooks let you explore some AI topics by yourself. They are not ment to be a full in-depth course, but rather should give you a flavor of different deep learning techniques. \n",
    "\n",
    "You can change and experiment with the code as much as you like. However, no changes are saved when you exit the notebooks!\n",
    "\n",
    "\n",
    "# Topics\n",
    "\n",
    "D