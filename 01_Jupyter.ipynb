
{
 "cells": [
  {
   "cell_type": "markdown",
   "metadata": {},
   "source": [
    "<div align=\"center\">\n",
    "<a href=\"https://vbti.nl\"><img src=\"images/vbti_logo.png\" width=\"400\"></a>\n",
    "</div>\n",
    "\n",
    "# Jupyter Notebooks\n",
    "[Jupyter Notebook](https://jupyter.org) is a browser-based environment to carry out data science and artificial intelligence projects. It is supported by a broad community of data scientists and AI researchers. Mixing documentation and code into one notebook is a major feature of Jupyter. This way you can create interactive reports. An other feature is the support for multiple programming languages in Jupyter, which are implemented via 'kernels'. In this masterclass we use the [Python](https://www.python.org) programming language.\n",
    "\n",
    "# How does it work?\n",
    "A Jupyter notebook consists of 'cells'. A cell can be a 'markdown' cell for typing documentation, or a 'code' cell for writing code. Use the mouse or up/down arrow keys to select a cell. From the pulldown menu above you can change the cell type.\n",
    "\n",
    "## Markdown cells\n",
    "To edit a markdown cell, double click on it. You will enter the 'edit' mode of the markdown cell. Special markdown characters can be used to format your text. A full overview of the formatting syntax can be found [here](https://help.github.com/articles/basic-writing-and-formatting-syntax/).\n",
    "\n",
    "To run a markdown, select the cell and press SHIFT+ENTER.\n",
    "\n",
    "## Code cells\n",
    "In a code cell you can write code in the language of the active kernel of the notebook. In these masterclass notebooks Python is used. To execute the code, select the cell and press SHIFT+ENTER."
   ]
  },
  {
   "cell_type": "code",
   "execution_count": 1,
   "metadata": {},
   "outputs": [
    {
     "name": "stdout",
     "output_type": "stream",
     "text": [
      "Hello Masterclass Students!\n"
     ]
    }
   ],
   "source": [
    "# this is python code\n",
    "# select this cell and press SHIFT-ENTER to run the code\n",
    "print(\"Hello Masterclass Students!\")"
   ]
  },
  {
   "cell_type": "markdown",
   "metadata": {},
   "source": [
    "Variables and functions between code cells are shared. So, when you define a variable on one cel ..."
   ]
  },
  {
   "cell_type": "code",
   "execution_count": 2,
   "metadata": {},
   "outputs": [],
   "source": [
    "A = 1234"
   ]
  },
  {
   "cell_type": "markdown",
   "metadata": {},
   "source": [
    "... you can use the value in an other cell ..."
   ]
  },
  {
   "cell_type": "code",
   "execution_count": 3,
   "metadata": {},
   "outputs": [
    {
     "name": "stdout",
     "output_type": "stream",
     "text": [
      "1234\n"
     ]
    }
   ],
   "source": [
    "print(A)"
   ]
  },
  {
   "cell_type": "markdown",
   "metadata": {},
   "source": [
    "In practice, when you want to execute a notebook you select the first cell of the notebook and continuously press SHIFT+ENTER until you have reached and executed the last cell.\n",
    "\n",
    "From the toolbar above you can choose to stop a notebook and to restart it (clears all memory)."
   ]
  },
  {
   "cell_type": "code",
   "execution_count": null,
   "metadata": {},
   "outputs": [],
   "source": []
  }
 ],
 "metadata": {
  "kernelspec": {
   "display_name": "Python 3",
   "language": "python",
   "name": "python3"
  },
  "language_info": {
   "codemirror_mode": {
    "name": "ipython",
    "version": 3
   },
   "file_extension": ".py",
   "mimetype": "text/x-python",
   "name": "python",
   "nbconvert_exporter": "python",
   "pygments_lexer": "ipython3",
   "version": "3.6.5"
  }
 },
 "nbformat": 4,
 "nbformat_minor": 2
}